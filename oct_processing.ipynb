{
 "cells": [
  {
   "cell_type": "code",
   "execution_count": null,
   "metadata": {},
   "outputs": [],
   "source": [
    "### First we have downloaded a net CDF from the Copernicus Data Store: https://cds.climate.copernicus.eu"
   ]
  },
  {
   "cell_type": "code",
   "execution_count": null,
   "metadata": {},
   "outputs": [],
   "source": [
    "file = '/Users/gbenz/Downloads/tx10pETCCDI_mon_HadGEM3-GC31-LL_historical_r1i1p1f3_b1981-2010_v20190624_185001-201412_v2-0.nc'"
   ]
  },
  {
   "cell_type": "code",
   "execution_count": null,
   "metadata": {},
   "outputs": [],
   "source": [
    "import pandas as pd\n",
    "import xarray as xr\n",
    "from rasterstats import zonal_stats\n",
    "import numpy as np\n",
    "\n",
    "from utils.unzip import unzip_etccdi_package\n",
    "from utils.correct_longitude import transform_longitudinal_values\n",
    "from utils.give_metadata import give_metadata\n",
    "from utils.etccdi_to_pg import generate_etccdi_temporal_tables\n",
    "from utils.temporal_index import find_etccdi_timeindex\n",
    "from utils.define_request import generate_and_validate_request"
   ]
  },
  {
   "cell_type": "markdown",
   "metadata": {},
   "source": [
    "## Access with Copernicus Data Store API:"
   ]
  },
  {
   "cell_type": "markdown",
   "metadata": {},
   "source": [
    "#### Objective by Oct. 30 is to have this process begin by retreiving (predefined and approved) ETCCDI data parameters from an API\n",
    "\n",
    "- Works on Mon 28 GB"
   ]
  },
  {
   "cell_type": "markdown",
   "metadata": {},
   "source": [
    "The proceeding code provides a correct output but requires a unique user API key. This cannot be simplified much further.\n",
    "\n",
    "The desirable output is to exclusively change:\n",
    "- 'variable' \n",
    "- product_type\n",
    "- period\n",
    "#### ------------------\n",
    "- start_year = '1995'\n",
    "- start_month = '01'\n",
    "- end_year = '2000'\n",
    "- end_month = '12'\n",
    "\n",
    "Then if you select 'cold days' a decision tree will be printed with the optional parameters that could be selected for product type and period\n",
    "Other parameters will be kept standard. "
   ]
  },
  {
   "cell_type": "code",
   "execution_count": null,
   "metadata": {},
   "outputs": [],
   "source": [
    "\n",
    "\n",
    "# Now, calling the function will generate and validate the request\n",
    "request = generate_and_validate_request(\n",
    "    variable=\"consecutive_wet_days\",\n",
    "    product_type=\"base_independent\",\n",
    "    experiment=\"historical\",\n",
    "    temporal_aggregation=\"yearly\"\n",
    ")\n",
    "\n",
    "display(request)\n"
   ]
  },
  {
   "cell_type": "code",
   "execution_count": null,
   "metadata": {},
   "outputs": [],
   "source": [
    "import cdsapi\n",
    "\n",
    "dataset = \"sis-extreme-indices-cmip6\"\n",
    "\n",
    "# Extract the desired elements from the request dictionary\n",
    "variable = request[\"variable\"][0]\n",
    "temporal_aggregation = request[\"temporal_aggregation\"][0]\n",
    "period = request[\"period\"][0]\n",
    "\n",
    "# Concatenate them with an underscore or any other separator you prefer\n",
    "zip_file_name = f\"{variable}_{temporal_aggregation}_{period}.zip\"\n",
    "\n",
    "client = cdsapi.Client()\n",
    "client.retrieve(dataset, request, target=zip_file_name)\n"
   ]
  },
  {
   "cell_type": "code",
   "execution_count": null,
   "metadata": {},
   "outputs": [],
   "source": [
    "netcdf_file, etccdi_index = unzip_etccdi_package(zip_file_name)"
   ]
  },
  {
   "cell_type": "markdown",
   "metadata": {},
   "source": [
    "### Report Metadata from the selected ETTCDI netCDF file:\n",
    "\n",
    "Move the pg shapefile to the github repo so this can be accessed without references to local paths\n",
    "\n",
    "Accomplishes:\n",
    "- checks to ensure the correct netcdf file is being processed\n",
    "- provides spatial and temporal metadata\n",
    "\n",
    "From preprocessing, we know that the ETCCDI climate data is not packaged in a desirable format, that is, the original longitudinal range is: 0.9375 to 359.0625\n",
    "- Adjust the Longitude range \n",
    "- save an 'adjusted netcdf' file.\n",
    "\n",
    "\n",
    "28-10 -- What would perhaps be most desirable is to first transform, then, report metadata with two seperate functions."
   ]
  },
  {
   "cell_type": "code",
   "execution_count": null,
   "metadata": {},
   "outputs": [],
   "source": [
    "etccdi = transform_longitudinal_values(etccdi_index, netcdf_file)"
   ]
  },
  {
   "cell_type": "code",
   "execution_count": null,
   "metadata": {},
   "outputs": [],
   "source": [
    "give_metadata(etccdi)"
   ]
  },
  {
   "cell_type": "code",
   "execution_count": null,
   "metadata": {},
   "outputs": [],
   "source": [
    "#-----------------------------------------------------------\n",
    "# Define Start Year & Month\n",
    "#-----------------------------------------------------------\n",
    "start_year = '1990'\n",
    "start_month = '01'\n",
    "#-----------------------------------------------------------\n",
    "# Define End Year & Month\n",
    "end_year = '2014'\n",
    "end_month = '12'\n",
    "#-----------------------------------------------------------\n",
    "#-----------------------------------------------------------\n",
    "# Establish Start and End index values:\n",
    "start_index_val =  find_etccdi_timeindex(start_year, start_month, etccdi)\n",
    "end_index_val = find_etccdi_timeindex(end_year, end_month, etccdi)\n",
    "#-----------------------------------------------------------\n",
    "print(f'The start index is: {start_index_val}')\n",
    "print(f'The end index is: {end_index_val}')\n",
    "#-----------------------------------------------------------\n",
    "index_list = list(range(start_index_val, end_index_val + 1))\n",
    "#-----------------------------------------------------------"
   ]
  },
  {
   "cell_type": "markdown",
   "metadata": {},
   "source": [
    "### Testing on the first n elements:"
   ]
  },
  {
   "cell_type": "code",
   "execution_count": null,
   "metadata": {},
   "outputs": [],
   "source": [
    "sub_index = index_list[:2]\n",
    "\n",
    "time_length_subset = len(sub_index)\n",
    "time_length = len(index_list)\n",
    "\n",
    "print(time_length_subset)\n",
    "print(time_length)\n"
   ]
  },
  {
   "cell_type": "markdown",
   "metadata": {},
   "source": [
    "### Puts it all together\n",
    "\n",
    "Parameters:\n",
    "1. references the sub_index which supplies the list (or sublist) of indexes to iterate over. Index specifically references time. This can be confusing because the ETCCDI variables are themselves climate indices.\n",
    "2. Creates a single geotiff from the current time selection. We do this because the NetCDF itself is not a format that can be incorporated into rigorous analysis so as we iterate through the time series we convert the working item to a geotiff which is a format that can be operated on.\n"
   ]
  },
  {
   "cell_type": "markdown",
   "metadata": {},
   "source": [
    "#### Parameters:\n",
    "\n",
    "1. NetCDF file\n",
    "2. (TEMPORAL) sub_index or full index (specify index to loop over)\n",
    "3. etccdi index ex(tx10pETCCDI)\n",
    "\n",
    "\n",
    "ADF -- Decision to just save to ONE WORKING raster that will continously be rewritten \n",
    "rationale: The purpose of having unique tifs is to visualize holes in the data. However, this is not worth the space. If holes appear in the tabular dataset, a new geotiff corresponding to that month / year can quickly be produced!\n",
    "\n",
    "ADF -- Rationalize why this is best:\n",
    "    # Resample the raster data to the new resolution\n",
    "    resampled_raster = raster_data.rio.reproject(\n",
    "        raster_data.rio.crs,\n",
    "        shape=(\n",
    "            int(raster_data.shape[1] * 10),  # Increase number of rows by a factor of 10\n",
    "            int(raster_data.shape[2] * 10)   # Increase number of columns by a factor of 10\n",
    "        ),\n",
    "        resampling=Resampling.bilinear  # Use the correct resampling method\n",
    "    )\n"
   ]
  },
  {
   "cell_type": "markdown",
   "metadata": {},
   "source": [
    "### Params:\n",
    "\n",
    "- time_index_list,\n",
    "- netcdf, climate_index, \n",
    "- shapefile_path\n"
   ]
  },
  {
   "cell_type": "code",
   "execution_count": null,
   "metadata": {},
   "outputs": [],
   "source": [
    "generate_etccdi_temporal_tables(sub_index, etccdi, etccdi_index, '/Users/gbenz/Downloads/pg_extent/pgm_viewser_extent.shp')"
   ]
  },
  {
   "cell_type": "markdown",
   "metadata": {},
   "source": [
    "### Review:\n",
    "\n",
    "#### Validate completeness of the output index at PG resolution:\n",
    "\n",
    "Temporally: check that all total number of time periods match\n",
    "- Spatially: Full extent of PG (for each temporal unit!)\n",
    "\n",
    "How to do this:\n",
    "\n",
    "1. Load the 'compiled' etccdi index .csv\n",
    "2. check for null values\n",
    "\n",
    "Total length should be: X\n",
    "\n",
    "check length of temporal units should be: X (dependent on input parameters)\n",
    "check length of spatial units should be: X\n",
    "\n",
    "3. Plot the data\n",
    "\n",
    "### What we need:\n",
    "\n",
    "A complete 'clean' dataframe to reference from VIEWSER! 11.11\n"
   ]
  },
  {
   "cell_type": "code",
   "execution_count": null,
   "metadata": {},
   "outputs": [],
   "source": [
    "import pandas as pd\n",
    "import matplotlib.pyplot as plt\n",
    "\n",
    "def plot_monthly_average_tx10pETCCDI(dataframe):\n",
    "    # Group by 'date' and calculate the average 'tx10pETCCDI' for each date\n",
    "    monthly_avg = dataframe.groupby('date')['tx10pETCCDI'].mean().reset_index()\n",
    "    \n",
    "    # Plot the data\n",
    "    plt.figure(figsize=(12, 6))\n",
    "    plt.plot(monthly_avg['date'], monthly_avg['tx10pETCCDI'], marker='o', linestyle='-')\n",
    "    plt.title('Average tx10pETCCDI by Year-Month')\n",
    "    plt.xlabel('Date')\n",
    "    plt.ylabel('Average tx10pETCCDI')\n",
    "    plt.grid(True)\n",
    "    plt.show()\n",
    "\n",
    "# Assuming your DataFrame is named df\n"
   ]
  },
  {
   "cell_type": "code",
   "execution_count": null,
   "metadata": {},
   "outputs": [],
   "source": [
    "import geopandas as gpd\n",
    "\n",
    "# Specify the path to your shapefile or other spatial data file\n",
    "file_path = '/Users/gbenz/Downloads/pg_extent/pgm_viewser_extent.shp'\n",
    "\n",
    "# Load the data into a GeoDataFrame\n",
    "gdf = gpd.read_file(file_path)\n",
    "\n",
    "spatial_extent = len(pd.unique(gdf['gid']))"
   ]
  },
  {
   "cell_type": "code",
   "execution_count": null,
   "metadata": {},
   "outputs": [],
   "source": [
    "validate_etccdi = pd.read_csv('/Users/gbenz/Documents/Climate Data/climate_extremes/etccdi_out_files/tx10pETCCDI_2015_01__2015_02.csv')\n",
    "validate_etccdi['date'] = validate_etccdi['year'].astype(str) + '-' + validate_etccdi['month'].astype(str).str.zfill(2)\n",
    "\n",
    "etccdi_time_length = len(pd.unique(validate_etccdi['date']))\n",
    "etccdi_spatial_length = len(pd.unique(validate_etccdi['gid']))\n",
    "\n",
    "#-------------------------------------------------------------------------------------------------------------------------------------------------\n",
    "# Report null values:\n",
    "\n",
    "# Specify the columns to check for null values\n",
    "columns_to_check = ['gid', 'year', 'month', 'date', 'tx10pETCCDI']\n",
    "print('This prints a summary of Null values:')\n",
    "# Count null values in the specified columns\n",
    "null_counts = validate_etccdi[columns_to_check].isnull().sum()\n",
    "#-------------------------------------------------------------------------------------------------------------------------------------------------\n",
    "print()\n",
    "display(null_counts)\n",
    "\n",
    "print()\n",
    "print('Summary of temporal and spatial units:')\n",
    "print()\n",
    "print(f'This dataset expects to see {time_length} and found {etccdi_time_length}')\n",
    "print(f'This dataset expects to see {spatial_extent} and found {etccdi_spatial_length}')\n",
    "print()\n",
    "print('Average over time to expose any temporal gaps')\n",
    "#plot_monthly_average_tx10pETCCDI(validate_etccdi)"
   ]
  },
  {
   "cell_type": "markdown",
   "metadata": {},
   "source": [
    "### Resample to Fine (Granular) Pixel \n",
    "\n",
    "Parameters to consider: \n",
    "1. What is an appropriate resolution\n",
    "2. What is the most appropriate resampling method\n"
   ]
  }
 ],
 "metadata": {
  "kernelspec": {
   "display_name": "viewser",
   "language": "python",
   "name": "python3"
  },
  "language_info": {
   "codemirror_mode": {
    "name": "ipython",
    "version": 3
   },
   "file_extension": ".py",
   "mimetype": "text/x-python",
   "name": "python",
   "nbconvert_exporter": "python",
   "pygments_lexer": "ipython3",
   "version": "3.11.9"
  }
 },
 "nbformat": 4,
 "nbformat_minor": 2
}
