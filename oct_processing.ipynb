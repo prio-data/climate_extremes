{
 "cells": [
  {
   "cell_type": "code",
   "execution_count": null,
   "metadata": {},
   "outputs": [],
   "source": [
    "### First we have downloaded a net CDF from the Copernicus Data Store: https://cds.climate.copernicus.eu"
   ]
  },
  {
   "cell_type": "code",
   "execution_count": 64,
   "metadata": {},
   "outputs": [],
   "source": [
    "file = '/Users/gbenz/Downloads/tx10pETCCDI_mon_HadGEM3-GC31-LL_historical_r1i1p1f3_b1981-2010_v20190624_185001-201412_v2-0.nc'"
   ]
  },
  {
   "cell_type": "code",
   "execution_count": 1,
   "metadata": {},
   "outputs": [],
   "source": [
    "import pandas as pd\n",
    "import xarray as xr\n",
    "from rasterstats import zonal_stats\n",
    "import numpy as np\n",
    "\n",
    "from utils.unzip import unzip_etccdi_package\n",
    "from utils.correct_longitude import transform_longitudinal_values\n",
    "from utils.give_metadata import give_metadata\n",
    "from utils.etccdi_to_pg import generate_etccdi_temporal_tables\n",
    "from utils.temporal_index import find_etccdi_timeindex\n"
   ]
  },
  {
   "cell_type": "markdown",
   "metadata": {},
   "source": [
    "## Access with Copernicus Data Store API:"
   ]
  },
  {
   "cell_type": "markdown",
   "metadata": {},
   "source": [
    "#### Objective by Oct. 30 is to have this process begin by retreiving (predefined and approved) ETCCDI data parameters from an API\n",
    "\n",
    "- Works on Mon 28 GB"
   ]
  },
  {
   "cell_type": "markdown",
   "metadata": {},
   "source": [
    "The proceeding code provides a correct output but requires a unique user API key. This cannot be simplified much further.\n",
    "\n",
    "The desirable output is to exclusively change:\n",
    "- 'variable' \n",
    "- product_type\n",
    "- period\n",
    "#### ------------------\n",
    "- start_year = '1995'\n",
    "- start_month = '01'\n",
    "- end_year = '2000'\n",
    "- end_month = '12'\n",
    "\n",
    "Then if you select 'cold days' a decision tree will be printed with the optional parameters that could be selected for product type and period\n",
    "Other parameters will be kept standard. "
   ]
  },
  {
   "cell_type": "code",
   "execution_count": 2,
   "metadata": {},
   "outputs": [
    {
     "name": "stderr",
     "output_type": "stream",
     "text": [
      "2024-10-28 11:06:11,585 INFO [2024-09-28T00:00:00] **Welcome to the New Climate Data Store (CDS)!** This new system is in its early days of full operations and still undergoing enhancements and fine tuning. Some disruptions are to be expected. Your \n",
      "[feedback](https://jira.ecmwf.int/plugins/servlet/desk/portal/1/create/202) is key to improve the user experience on the new CDS for the benefit of everyone. Thank you.\n",
      "2024-10-28 11:06:11,585 WARNING [2024-09-26T00:00:00] Should you have not yet migrated from the old CDS system to the new CDS, please check our [informative page](https://confluence.ecmwf.int/x/uINmFw) for guidance.\n",
      "2024-10-28 11:06:11,586 INFO [2024-09-26T00:00:00] Watch our [Forum](https://forum.ecmwf.int/) for Announcements, news and other discussed topics.\n",
      "2024-10-28 11:06:11,586 INFO [2024-09-16T00:00:00] Remember that you need to have an ECMWF account to use the new CDS. **Your old CDS credentials will not work in new CDS!**\n",
      "2024-10-28 11:06:11,587 WARNING [2024-06-16T00:00:00] CDS API syntax is changed and some keys or parameter names may have also changed. To avoid requests failing, please use the \"Show API request code\" tool on the dataset Download Form to check you are using the correct syntax for your API request.\n",
      "2024-10-28 11:06:11,869 INFO Request ID is 44ccaaca-65f2-4f87-b9a9-10a34a93e67a\n",
      "2024-10-28 11:06:11,934 INFO status has been updated to accepted\n",
      "2024-10-28 11:06:17,392 INFO status has been updated to running\n",
      "2024-10-28 11:06:20,833 INFO status has been updated to successful\n"
     ]
    },
    {
     "data": {
      "application/vnd.jupyter.widget-view+json": {
       "model_id": "8406b981555b4851a3a3f9e1c02973db",
       "version_major": 2,
       "version_minor": 0
      },
      "text/plain": [
       "d101c0bf89967b6f33f6377578a0fac5.zip:   0%|          | 0.00/109M [00:00<?, ?B/s]"
      ]
     },
     "metadata": {},
     "output_type": "display_data"
    },
    {
     "data": {
      "text/plain": [
       "'cold_days_monthly_201501_210012.zip'"
      ]
     },
     "execution_count": 2,
     "metadata": {},
     "output_type": "execute_result"
    }
   ],
   "source": [
    "import cdsapi\n",
    "\n",
    "dataset = \"sis-extreme-indices-cmip6\"\n",
    "request = {\n",
    "    \"variable\": [\"cold_days\"],\n",
    "    \"product_type\": [\"base_period_1961_1990\"], \n",
    "    \"model\": [\"hadgem3_gc31_ll\"], # this is linked to ensemble member\n",
    "    \"ensemble_member\": [\"r1i1p1f3\"],\n",
    "    \"experiment\": [\"ssp1_2_6\"], #this is linked to period\n",
    "    \"temporal_aggregation\": [\"monthly\"],\n",
    "    \"period\": [\"201501_210012\"],\n",
    "    \"version\": [\"2_0\"],\n",
    "    'data_format': 'netcdf'\n",
    "\n",
    "}\n",
    "\n",
    "# Extract the desired elements from the request dictionary\n",
    "variable = request[\"variable\"][0]\n",
    "temporal_aggregation = request[\"temporal_aggregation\"][0]\n",
    "period = request[\"period\"][0]\n",
    "\n",
    "# Concatenate them with an underscore or any other separator you prefer\n",
    "zip_file_name = f\"{variable}_{temporal_aggregation}_{period}.zip\"\n",
    "\n",
    "client = cdsapi.Client()\n",
    "client.retrieve(dataset, request, target=zip_file_name)\n"
   ]
  },
  {
   "cell_type": "code",
   "execution_count": 3,
   "metadata": {},
   "outputs": [
    {
     "name": "stdout",
     "output_type": "stream",
     "text": [
      "tx10pETCCDI\n",
      "Extracted file names: tx10pETCCDI_mon_HadGEM3-GC31-LL_ssp126_r1i1p1f3_b1961-1990_v20200114_201501-210012_v2-0.nc\n"
     ]
    }
   ],
   "source": [
    "netcdf_file, etccdi_index = unzip_etccdi_package(zip_file_name)"
   ]
  },
  {
   "cell_type": "markdown",
   "metadata": {},
   "source": [
    "### Report Metadata from the selected ETTCDI netCDF file:\n",
    "\n",
    "Move the pg shapefile to the github repo so this can be accessed without references to local paths\n",
    "\n",
    "Accomplishes:\n",
    "- checks to ensure the correct netcdf file is being processed\n",
    "- provides spatial and temporal metadata\n",
    "\n",
    "From preprocessing, we know that the ETCCDI climate data is not packaged in a desirable format, that is, the original longitudinal range is: 0.9375 to 359.0625\n",
    "- Adjust the Longitude range \n",
    "- save an 'adjusted netcdf' file.\n",
    "\n",
    "\n",
    "28-10 -- What would perhaps be most desirable is to first transform, then, report metadata with two seperate functions."
   ]
  },
  {
   "cell_type": "code",
   "execution_count": 5,
   "metadata": {},
   "outputs": [
    {
     "name": "stdout",
     "output_type": "stream",
     "text": [
      "The variable 'tx10pETCCDI' was found in the file path and the world continues to spin.\n",
      "Original Latitude range: -89.375 to 89.375\n",
      "Original Longitude range: 0.9375 to 359.0625\n",
      "Adjusted Longitude range: -179.0625 to 179.0625\n",
      "Adjusted dataset saved to: /Users/gbenz/Downloads/adjusted_tx10pETCCDI_mon_HadGEM3-GC31-LL_ssp126_r1i1p1f3_b1961-1990_v20200114_201501-210012_v2-0.nc.nc\n"
     ]
    }
   ],
   "source": [
    "etccdi = transform_longitudinal_values(etccdi_index, netcdf_file)"
   ]
  },
  {
   "cell_type": "code",
   "execution_count": 6,
   "metadata": {},
   "outputs": [
    {
     "name": "stdout",
     "output_type": "stream",
     "text": [
      "Latitude range: -89.375 to 89.375\n",
      "Longitude range: -179.0625 to 179.0625\n",
      "Latitude resolution: 1.25\n",
      "Longitude resolution: 1.875\n",
      "Global Metadata:\n",
      "CDI: Climate Data Interface version 1.8.0 (http://mpimet.mpg.de/cdi)\n",
      "history: Tue Nov 24 09:31:53 2020: cdo mergetime tasmax_day_HadGEM3-GC31-LL_ssp126_r1i1p1f3_gn_20150101-20491230.nc tasmax_day_HadGEM3-GC31-LL_ssp126_r1i1p1f3_gn_20500101-21001230.nc ./merged/tasmax_day_HadGEM3-GC31-LL_ssp126_r1i1p1f3_gn_20150101-21001230.nc\n",
      "2020-01-13T09:55:40Z ; CMOR rewrote data to be consistent with CMIP6, CF-1.7 CMIP-6.2 and CF standards.;\n",
      "2020-01-13T09:53:59Z MIP Convert v1.2.3, Python v2.7.12, Iris v1.13.0, Numpy v1.13.3, netcdftime v1.4.1.\n",
      "source: HadGEM3-GC31-LL (2016): \n",
      "aerosol: UKCA-GLOMAP-mode\n",
      "atmos: MetUM-HadGEM3-GA7.1 (N96; 192 x 144 longitude/latitude; 85 levels; top level 85 km)\n",
      "atmosChem: none\n",
      "land: JULES-HadGEM3-GL7.1\n",
      "landIce: none\n",
      "ocean: NEMO-HadGEM3-GO6.0 (eORCA1 tripolar primarily 1 deg with meridional refinement down to 1/3 degree in the tropics; 360 x 330 longitude/latitude; 75 levels; top grid cell 0-1 m)\n",
      "ocnBgchem: none\n",
      "seaIce: CICE-HadGEM3-GSI8 (eORCA1 tripolar primarily 1 deg; 360 x 330 longitude/latitude)\n",
      "institution: Met Office Hadley Centre, Fitzroy Road, Exeter, Devon, EX1 3PB, UK\n",
      "Conventions: CF-1.7 CMIP-6.2\n",
      "activity_id: ScenarioMIP\n",
      "branch_method: standard\n",
      "branch_time_in_child: 59400.0\n",
      "branch_time_in_parent: 59400.0\n",
      "input_creation_date: 2020-01-13T10:10:01Z\n",
      "cv_version: 6.2.37.5\n",
      "data_specs_version: 01.00.29\n",
      "experiment: update of RCP2.6 based on SSP1\n",
      "experiment_id: ssp126\n",
      "external_variables: areacella\n",
      "forcing_index: 3\n",
      "input_frequency: day\n",
      "further_info_url: https://furtherinfo.es-doc.org/CMIP6.MOHC.HadGEM3-GC31-LL.ssp126.none.r1i1p1f3\n",
      "grid: Native N96 grid; 192 x 144 longitude/latitude\n",
      "grid_label: gn\n",
      "initialization_index: 1\n",
      "institution_id: MOHC\n",
      "mip_era: CMIP6\n",
      "mo_runid: u-bj611\n",
      "nominal_resolution: 250 km\n",
      "parent_activity_id: CMIP\n",
      "parent_experiment_id: historical\n",
      "parent_mip_era: CMIP6\n",
      "parent_source_id: HadGEM3-GC31-LL\n",
      "parent_time_units: days since 1850-01-01\n",
      "parent_variant_label: r1i1p1f3\n",
      "physics_index: 1\n",
      "product: model-output\n",
      "realization_index: 1\n",
      "realm: atmos\n",
      "source_id: HadGEM3-GC31-LL\n",
      "source_type: AOGCM AER\n",
      "sub_experiment: none\n",
      "sub_experiment_id: none\n",
      "table_id: day\n",
      "table_info: Creation Date:(13 December 2018) MD5:f0588f7f55b5732b17302f8d9d0d7b8c\n",
      "input_title: HadGEM3-GC31-LL output prepared for CMIP6\n",
      "input_tracking_id: hdl:21.14100/8e91bf77-1c96-4585-b92c-c438a87d4135\n",
      "variable_id: tasmax\n",
      "variable_name: tasmax\n",
      "variant_label: r1i1p1f3\n",
      "license: CMIP6 model data produced by the Met Office Hadley Centre is licensed under a Creative Commons Attribution-ShareAlike 4.0 International License (https://creativecommons.org/licenses). Consult https://pcmdi.llnl.gov/CMIP6/TermsOfUse for terms of use governing CMIP6 output, including citation requirements and proper acknowledgment. Further information about this data, including some limitations, can be found via the further_info_url (recorded as a global attribute in this file) and at https://ukesm.ac.uk/cmip6. The data producers and data providers make no warranty, either express or implied, including, but not limited to, warranties of merchantability and fitness for a particular purpose. All liabilities arising from the supply of the information (including any liability arising in negligence) are excluded to the fullest extent permitted by law.\n",
      "cmor_version: 3.4.0\n",
      "CDO: Climate Data Operators version 1.8.0 (http://mpimet.mpg.de/cdo)\n",
      "ETCCDI_institution: Center for International Climate and Environmental Research - Oslo, Norway\n",
      "ETCCDI_institution_id: CICERO\n",
      "ETCCDI_software: climdex.pcic\n",
      "ETCCDI_software_version: 1.1.9.1\n",
      "frequency: mon\n",
      "creation_date: 2020-11-27T12:22:12Z\n",
      "title: ETCCDI indices computed on HadGEM3-GC31-LL output prepared for CMIP6\n",
      "Unique Years: [2015, 2016, 2017, 2018, 2019, 2020, 2021, 2022, 2023, 2024, 2025, 2026, 2027, 2028, 2029, 2030, 2031, 2032, 2033, 2034, 2035, 2036, 2037, 2038, 2039, 2040, 2041, 2042, 2043, 2044, 2045, 2046, 2047, 2048, 2049, 2050, 2051, 2052, 2053, 2054, 2055, 2056, 2057, 2058, 2059, 2060, 2061, 2062, 2063, 2064, 2065, 2066, 2067, 2068, 2069, 2070, 2071, 2072, 2073, 2074, 2075, 2076, 2077, 2078, 2079, 2080, 2081, 2082, 2083, 2084, 2085, 2086, 2087, 2088, 2089, 2090, 2091, 2092, 2093, 2094, 2095, 2096, 2097, 2098, 2099, 2100]\n",
      "Unique Months: [1, 2, 3, 4, 5, 6, 7, 8, 9, 10, 11, 12]\n"
     ]
    }
   ],
   "source": [
    "give_metadata(etccdi)"
   ]
  },
  {
   "cell_type": "code",
   "execution_count": 8,
   "metadata": {},
   "outputs": [
    {
     "name": "stdout",
     "output_type": "stream",
     "text": [
      "Index of 01 data for year 2015: 0\n",
      "Validation: Found data for Year: 2015, Month: 01 at index 0.\n",
      "Index of 12 data for year 2020: 71\n",
      "Validation: Found data for Year: 2020, Month: 12 at index 71.\n",
      "The start index is: 0\n",
      "The end index is: 71\n"
     ]
    }
   ],
   "source": [
    "#-----------------------------------------------------------\n",
    "# Define Start Year & Month\n",
    "#-----------------------------------------------------------\n",
    "start_year = '2015'\n",
    "start_month = '01'\n",
    "#-----------------------------------------------------------\n",
    "# Define End Year & Month\n",
    "end_year = '2020'\n",
    "end_month = '12'\n",
    "#-----------------------------------------------------------\n",
    "#-----------------------------------------------------------\n",
    "# Establish Start and End index values:\n",
    "start_index_val =  find_etccdi_timeindex(start_year, start_month, etccdi)\n",
    "end_index_val = find_etccdi_timeindex(end_year, end_month, etccdi)\n",
    "#-----------------------------------------------------------\n",
    "print(f'The start index is: {start_index_val}')\n",
    "print(f'The end index is: {end_index_val}')\n",
    "#-----------------------------------------------------------\n",
    "index_list = list(range(start_index_val, end_index_val + 1))\n",
    "#-----------------------------------------------------------"
   ]
  },
  {
   "cell_type": "markdown",
   "metadata": {},
   "source": [
    "### Testing on the first n elements:"
   ]
  },
  {
   "cell_type": "code",
   "execution_count": 21,
   "metadata": {},
   "outputs": [
    {
     "name": "stdout",
     "output_type": "stream",
     "text": [
      "2\n",
      "72\n"
     ]
    }
   ],
   "source": [
    "sub_index = index_list[:2]\n",
    "\n",
    "time_length_subset = len(sub_index)\n",
    "time_length = len(index_list)\n",
    "\n",
    "print(time_length_subset)\n",
    "print(time_length)\n"
   ]
  },
  {
   "cell_type": "markdown",
   "metadata": {},
   "source": [
    "### Puts it all together\n",
    "\n",
    "Parameters:\n",
    "1. references the sub_index which supplies the list (or sublist) of indexes to iterate over. Index specifically references time. This can be confusing because the ETCCDI variables are themselves climate indices.\n",
    "2. Creates a single geotiff from the current time selection. We do this because the NetCDF itself is not a format that can be incorporated into rigorous analysis so as we iterate through the time series we convert the working item to a geotiff which is a format that can be operated on.\n"
   ]
  },
  {
   "cell_type": "markdown",
   "metadata": {},
   "source": [
    "#### Parameters:\n",
    "\n",
    "1. NetCDF file\n",
    "2. (TEMPORAL) sub_index or full index (specify index to loop over)\n",
    "3. etccdi index ex(tx10pETCCDI)\n",
    "\n",
    "\n",
    "ADF -- Decision to just save to ONE WORKING raster that will continously be rewritten \n",
    "rationale: The purpose of having unique tifs is to visualize holes in the data. However, this is not worth the space. If holes appear in the tabular dataset, a new geotiff corresponding to that month / year can quickly be produced!\n",
    "\n",
    "ADF -- Rationalize why this is best:\n",
    "    # Resample the raster data to the new resolution\n",
    "    resampled_raster = raster_data.rio.reproject(\n",
    "        raster_data.rio.crs,\n",
    "        shape=(\n",
    "            int(raster_data.shape[1] * 10),  # Increase number of rows by a factor of 10\n",
    "            int(raster_data.shape[2] * 10)   # Increase number of columns by a factor of 10\n",
    "        ),\n",
    "        resampling=Resampling.bilinear  # Use the correct resampling method\n",
    "    )\n"
   ]
  },
  {
   "cell_type": "markdown",
   "metadata": {},
   "source": [
    "### Params:\n",
    "\n",
    "- time_index_list,\n",
    "- netcdf, climate_index, \n",
    "- shapefile_path\n"
   ]
  },
  {
   "cell_type": "code",
   "execution_count": 10,
   "metadata": {},
   "outputs": [
    {
     "name": "stdout",
     "output_type": "stream",
     "text": [
      "0\n",
      "Year: 2015-01-15 12:00:00\n",
      "GeoTIFF saved at: working_etccdi_file.tif\n",
      "Resampled GeoTIFF saved at: working_etccdi_file_resampled.tif\n",
      "1\n",
      "Year: 2015-02-15 12:00:00\n",
      "GeoTIFF saved at: working_etccdi_file.tif\n",
      "Resampled GeoTIFF saved at: working_etccdi_file_resampled.tif\n",
      "Final DataFrame saved to: etccdi_out_files/tx10pETCCDI_2015_01__2015_02.csv\n"
     ]
    }
   ],
   "source": [
    "generate_etccdi_temporal_tables(sub_index, etccdi, etccdi_index, '/Users/gbenz/Downloads/pg_extent/pgm_viewser_extent.shp')"
   ]
  },
  {
   "cell_type": "markdown",
   "metadata": {},
   "source": [
    "### Review:\n",
    "\n",
    "#### Validate completeness of the output index at PG resolution:\n",
    "\n",
    "Temporally: check that all total number of time periods match\n",
    "- Spatially: Full extent of PG (for each temporal unit!)\n",
    "\n",
    "How to do this:\n",
    "\n",
    "1. Load the 'compiled' etccdi index .csv\n",
    "2. check for null values\n",
    "\n",
    "Total length should be: X\n",
    "\n",
    "check length of temporal units should be: X (dependent on input parameters)\n",
    "check length of spatial units should be: X\n",
    "\n",
    "3. Plot the data\n"
   ]
  },
  {
   "cell_type": "code",
   "execution_count": 25,
   "metadata": {},
   "outputs": [],
   "source": [
    "import pandas as pd\n",
    "import matplotlib.pyplot as plt\n",
    "\n",
    "def plot_monthly_average_tx10pETCCDI(dataframe):\n",
    "    # Group by 'date' and calculate the average 'tx10pETCCDI' for each date\n",
    "    monthly_avg = dataframe.groupby('date')['tx10pETCCDI'].mean().reset_index()\n",
    "    \n",
    "    # Plot the data\n",
    "    plt.figure(figsize=(12, 6))\n",
    "    plt.plot(monthly_avg['date'], monthly_avg['tx10pETCCDI'], marker='o', linestyle='-')\n",
    "    plt.title('Average tx10pETCCDI by Year-Month')\n",
    "    plt.xlabel('Date')\n",
    "    plt.ylabel('Average tx10pETCCDI')\n",
    "    plt.grid(True)\n",
    "    plt.show()\n",
    "\n",
    "# Assuming your DataFrame is named df\n"
   ]
  },
  {
   "cell_type": "code",
   "execution_count": 27,
   "metadata": {},
   "outputs": [],
   "source": [
    "import geopandas as gpd\n",
    "\n",
    "# Specify the path to your shapefile or other spatial data file\n",
    "file_path = '/Users/gbenz/Downloads/pg_extent/pgm_viewser_extent.shp'\n",
    "\n",
    "# Load the data into a GeoDataFrame\n",
    "gdf = gpd.read_file(file_path)\n",
    "\n",
    "spatial_extent = len(pd.unique(gdf['gid']))"
   ]
  },
  {
   "cell_type": "code",
   "execution_count": 33,
   "metadata": {},
   "outputs": [
    {
     "name": "stdout",
     "output_type": "stream",
     "text": [
      "This prints a summary of Null values:\n",
      "\n"
     ]
    },
    {
     "data": {
      "text/plain": [
       "gid            0\n",
       "year           0\n",
       "month          0\n",
       "date           0\n",
       "tx10pETCCDI    0\n",
       "dtype: int64"
      ]
     },
     "metadata": {},
     "output_type": "display_data"
    },
    {
     "name": "stdout",
     "output_type": "stream",
     "text": [
      "\n",
      "Summary of temporal and spatial units:\n",
      "\n",
      "This dataset expects to see 72 and found 2\n",
      "This dataset expects to see 13110 and found 13110\n",
      "\n",
      "Average over time to expose any temporal gaps\n"
     ]
    },
    {
     "data": {
      "image/png": "[encoded data removed]",
      "text/plain": [
       "<Figure size 1200x600 with 1 Axes>"
      ]
     },
     "metadata": {},
     "output_type": "display_data"
    }
   ],
   "source": [
    "validate_etccdi = pd.read_csv('/Users/gbenz/Documents/Climate Data/climate_extremes/etccdi_out_files/tx10pETCCDI_2015_01__2015_02.csv')\n",
    "validate_etccdi['date'] = validate_etccdi['year'].astype(str) + '-' + validate_etccdi['month'].astype(str).str.zfill(2)\n",
    "\n",
    "etccdi_time_length = len(pd.unique(validate_etccdi['date']))\n",
    "etccdi_spatial_length = len(pd.unique(validate_etccdi['gid']))\n",
    "\n",
    "#-------------------------------------------------------------------------------------------------------------------------------------------------\n",
    "# Report null values:\n",
    "\n",
    "# Specify the columns to check for null values\n",
    "columns_to_check = ['gid', 'year', 'month', 'date', 'tx10pETCCDI']\n",
    "print('This prints a summary of Null values:')\n",
    "# Count null values in the specified columns\n",
    "null_counts = validate_etccdi[columns_to_check].isnull().sum()\n",
    "#-------------------------------------------------------------------------------------------------------------------------------------------------\n",
    "print()\n",
    "display(null_counts)\n",
    "\n",
    "print()\n",
    "print('Summary of temporal and spatial units:')\n",
    "print()\n",
    "print(f'This dataset expects to see {time_length} and found {etccdi_time_length}')\n",
    "print(f'This dataset expects to see {spatial_extent} and found {etccdi_spatial_length}')\n",
    "print()\n",
    "print('Average over time to expose any temporal gaps')\n",
    "plot_monthly_average_tx10pETCCDI(validate_etccdi)"
   ]
  },
  {
   "cell_type": "markdown",
   "metadata": {},
   "source": [
    "### Resample to Fine (Granular) Pixel \n",
    "\n",
    "Parameters to consider: \n",
    "1. What is an appropriate resolution\n",
    "2. What is the most appropriate resampling method\n"
   ]
  }
 ],
 "metadata": {
  "kernelspec": {
   "display_name": "viewser",
   "language": "python",
   "name": "python3"
  },
  "language_info": {
   "codemirror_mode": {
    "name": "ipython",
    "version": 3
   },
   "file_extension": ".py",
   "mimetype": "text/x-python",
   "name": "python",
   "nbconvert_exporter": "python",
   "pygments_lexer": "ipython3",
   "version": "3.11.9"
  }
 },
 "nbformat": 4,
 "nbformat_minor": 2
}
