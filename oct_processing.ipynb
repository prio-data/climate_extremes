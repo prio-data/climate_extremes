{
 "cells": [
  {
   "cell_type": "code",
   "execution_count": null,
   "metadata": {},
   "outputs": [],
   "source": [
    "### First we have downloaded a net CDF from the Copernicus Data Store: https://cds.climate.copernicus.eu"
   ]
  },
  {
   "cell_type": "markdown",
   "metadata": {},
   "source": [
    "### Required Changes:\n",
    "\n",
    "- The complete table should be saved in the directory: `data/generated/index_table_output`\n",
    "    - The file name must include the start and end dates for easier identification.\n",
    "\n",
    "- For the functions `generate_etccdi_temporal_tables` and `generate_etccdi_temporal_tables__centroid`:\n",
    "    - Suppress the printing of each graphic iteration during execution to reduce unnecessary output.\n",
    "\n",
    "- Ensure that all generated graphics reference a single, consistent scale (legend).\n",
    "\n",
    "- Issue with validation if:\n",
    "    - partial years are set in the parameters option \n",
    "    - ex. monthly data is allowed but parameters request only part of given year.\n"
   ]
  },
  {
   "cell_type": "markdown",
   "metadata": {},
   "source": [
    "# To-Do List\n",
    "\n",
    "## dependencies file\n",
    "- This is started as requirements.tx\n",
    "    - Go through each function (.py) and pull out all dependencies \n",
    "    - compile into one simplified list\n",
    "    - consult viewser and check which are absent\n",
    "    - make list of just the absent to install before running\n",
    "\n",
    "## Decision Tree Development\n",
    "- Create a **decision tree for defensible methods** based on different applications:\n",
    "    - If performing at an admin or country scale, use method X.\n",
    "    - Address the question: \"At what scale does the utility of finer-grained PRIOgrid data diminish?\" \n",
    "    - Incorporate considerations of 'other' shapefile extents.\n",
    "\n",
    "## API Considerations\n",
    "- Investigate potential **API changes**:\n",
    "    1. Ensure the `define_request.py` script is correctly referenced.\n",
    "    2. Contact CDS to determine their API update schedule (e.g., every 6 months or yearly).\n",
    "    3. Check the **CDS API forum** for transparency on updates.\n",
    "\n",
    "## Feature Enhancements\n",
    "- Add **descriptive statistics**:\n",
    "    - Include basic summary stats for the requested indices.\n",
    "- Allow users to view country-specific data:\n",
    "    - Avoid packaging into larger datasets.\n",
    "  \n",
    "## Additional Notes\n",
    "- Add a **section in the documentation** clarifying how to migrate workflows toward ingestion smoothly.\n"
   ]
  },
  {
   "cell_type": "code",
   "execution_count": 1,
   "metadata": {},
   "outputs": [],
   "source": [
    "import pandas as pd\n",
    "import xarray as xr\n",
    "import numpy as np"
   ]
  },
  {
   "cell_type": "code",
   "execution_count": 2,
   "metadata": {},
   "outputs": [],
   "source": [
    "from ingester3.extensions import *"
   ]
  },
  {
   "cell_type": "code",
   "execution_count": 3,
   "metadata": {},
   "outputs": [
    {
     "name": "stdout",
     "output_type": "stream",
     "text": [
      "Utils path added to Python Path: /Users/gbenz/Documents/Climate_Data/climate_extremes/utils\n"
     ]
    }
   ],
   "source": [
    "from setup_environment import setup_utils_path\n",
    "setup_utils_path()"
   ]
  },
  {
   "cell_type": "code",
   "execution_count": 4,
   "metadata": {},
   "outputs": [],
   "source": [
    "\n",
    "# Format API Request ----------------------------------------------------------------\n",
    "from unzip import unzip_etccdi_package\n",
    "from correct_longitude import transform_longitudinal_values\n",
    "from temporal_index import find_etccdi_timeindex, translate_index_to_daterange\n",
    "from define_request import generate_and_validate_request\n",
    "\n",
    "# Provide Metadata ------------------------------------------------------------------\n",
    "from give_metadata import give_metadata\n",
    "\n",
    "# Build API Request -----------------------------------------------------------------\n",
    "from cds_api_pull import pull_from_cds_api\n",
    "\n",
    "# Methods ---------------------------------------------------------------------------\n",
    "from etccdi_to_pg__pointquery import generate_etccdi_temporal_tables__centroid\n",
    "from etccdi_to_pg import generate_etccdi_temporal_tables\n",
    "\n",
    "# Validation ------------------------------------------------------------------------\n",
    "from give_reference_frame import provide_reference_frame\n",
    "from id_null_values import report_null_etccdi_values"
   ]
  },
  {
   "cell_type": "markdown",
   "metadata": {},
   "source": [
    "## Access with Copernicus Data Store API:\n",
    "\n",
    "### You must have both a Copernicus Data Store account and have followed the proceeding instructions on setting up the CDSAPI before you can retrieve and process data from this toolbox. \n",
    "\n",
    "#### The following instructions reference the CDSAPI set up guide: https://cds.climate.copernicus.eu/how-to-api\n",
    "\n",
    "\n",
    "The final objective is to construct a main.py function that accepts the parameters below and automatically computes the process!"
   ]
  },
  {
   "cell_type": "markdown",
   "metadata": {},
   "source": [
    "## API Request and Processing Parameters\n",
    "\n",
    "### API Request Parameters\n",
    "These parameters define the data retrieved via the API request:\n",
    "- **`variable`**: Specifies the data variable of interest.\n",
    "- **`product_type`**: Indicates the base product type.\n",
    "- **`experiment`**: Defines the experimental setup or scenario.\n",
    "- **`temporal_aggregation`**: Determines the temporal resolution of the data.\n",
    "\n",
    "### Processing Parameters\n",
    "These parameters guide the processing workflow:\n",
    "- **`start_year`**: `'1995'`\n",
    "- **`start_month`**: `'01'`\n",
    "- **`end_year`**: `'2000'`\n",
    "- **`end_month`**: `'12'`\n",
    "\n",
    "### Method Selection\n",
    "Choose a resampling or data alignment method:\n",
    "- **Bilinear sampling**: Applies weighted interpolation for smoother results.\n",
    "- **Point neighbor**: Maps the closest neighboring value preserving the original coarse resolution.\n",
    "\n",
    "### (In Development) Extent Selection\n",
    "Additional options for spatial analysis:\n",
    "- Empirical distributions based on basin-specific extents.\n",
    "- Future iterations will enable a 'hotspot' methodology for comparison with global metrics.\n"
   ]
  },
  {
   "cell_type": "markdown",
   "metadata": {},
   "source": [
    "## Example of CDS Request\n",
    "\n",
    "```\n",
    "import cdsapi\n",
    "\n",
    "dataset = \"sis-extreme-indices-cmip6\"\n",
    "request = {\n",
    "    \"variable\": [\"cold_days\"], \n",
    "    \"product_type\": [\"base_period_1961_1990\"],\n",
    "    \"model\": [\"hadgem3_gc31_ll\"],\n",
    "    \"ensemble_member\": [\"r1i1p1f3\"],\n",
    "    \"experiment\": [\"ssp1_2_6\"],\n",
    "    \"temporal_aggregation\": [\"monthly\"],\n",
    "    \"period\": [\"201501_210012\"],\n",
    "    \"version\": [\"2_0\"]\n",
    "}\n",
    "\n",
    "client = cdsapi.Client()\n",
    "client.retrieve(dataset, request).download()\n",
    "```   \n",
    "``` \n",
    "dataset = \"sis-extreme-indices-cmip6\"\n",
    "request = {\n",
    "    \"variable\": [\"consecutive_dry_days\"],\n",
    "    \"product_type\": [\"base_independent\"],\n",
    "    \"model\": [\"hadgem3_gc31_ll\"],\n",
    "    \"ensemble_member\": [\"r1i1p1f3\"],\n",
    "    \"experiment\": [\"ssp1_2_6\"],\n",
    "    \"temporal_aggregation\": [\"yearly\"],\n",
    "    \"period\": [\"2015_2100\"],\n",
    "    \"version\": [\"2_0\"]\n",
    "}\n",
    "```\n"
   ]
  },
  {
   "cell_type": "markdown",
   "metadata": {},
   "source": [
    "## Informing parameters\n",
    "\n",
    "This series of prompts will help constrain appropriate parameters to construct a request that matches the CDS API\n",
    "\n",
    "First, select a temporal aggregation (yearly / monthly)\n",
    "\n",
    "- if yearly:\n",
    "supply a response that reads: (all variables are available at yearly temporal resolution. Here a list of all available climate indices.)\n",
    "\n",
    "- if monthly:\n",
    "supply a response that reads: (Select indices are available at a monthly temporal resolution. Select from the following:)\n",
    "\n",
    "\n",
    "supply the climate index from the list of available variables. Please provide the name exactly as it is written in the list.\n",
    "\n",
    "- add code check (Is the variable located within the list?) \n",
    "    - if not, supply prompt to check spelling\n",
    "\n",
    "Next, select the climate 'experiment' used to process the derived climate indices. You may select from 'historical, ssp2.. sspx... and sspz\n",
    "\n",
    "- if historical AND monthly\n",
    "    - align appropriate 'period' variable\n",
    "    - etcd (applied to sspx_x and so on)\n",
    "\n"
   ]
  },
  {
   "cell_type": "code",
   "execution_count": null,
   "metadata": {},
   "outputs": [],
   "source": [
    "import pandas as pd\n",
    "\n",
    "# Data for the DataFrame\n",
    "data = {\n",
    "    \"product_type\": [\n",
    "        \"base_independent\", \"base_independent\", \"base_independent\", \"base_independent\",\n",
    "        \"base_independent\", \"base_independent\", \"base_independent\", \"base_independent\",\n",
    "        \"base_independent\", \"base_independent\", \"base_independent\", \"base_independent\",\n",
    "        \"base_independent\", \"base_independent\", \"base_independent\", \"base_independent\",\n",
    "        \"base_independent\", \"base_independent\", \"base_independent\", \"base_period_1961_1990\",\n",
    "        \"base_period_1961_1990\", \"base_period_1961_1990\", \"base_period_1961_1990\"\n",
    "    ],\n",
    "    \"variable\": [\n",
    "        \"consecutive_dry_days\", \"consecutive_wet_days\", \"diurnal_temperature_range\", \"frost_days\",\n",
    "        \"growing_season_length\", \"heavy_precipitation_days\", \"ice_days\", \"maximum_1_day_precipitation\",\n",
    "        \"maximum_5_day_precipitation\", \"maximum_value_of_daily_maximum_temperature\",\n",
    "        \"minimum_value_of_daily_maximum_temperature\", \"maximum_value_of_daily_minimum_temperature\",\n",
    "        \"minimum_value_of_daily_minimum_temperature\", \"number_of_wet_days\", \"simple_daily_intensity_index\",\n",
    "        \"summer_days\", \"total_wet_day_precipitation\", \"tropical_nights\", \"very_heavy_precipitation_days\",\n",
    "        \"cold_days\", \"cold_nights\", \"warm_days\", \"warm_nights\"\n",
    "    ],\n",
    "    \"temporal_aggregation\": [\n",
    "        \"annual\", \"annual\", \"monthly or annual\", \"annual\", \"annual\", \"annual\", \"annual\", \"monthly or annual\",\n",
    "        \"monthly or annual\", \"monthly or annual\", \"monthly or annual\", \"monthly or annual\", \"monthly or annual\",\n",
    "        \"annual\", \"annual\", \"annual\", \"annual\", \"annual\", \"annual\", \"monthly or annual\", \"monthly or annual\",\n",
    "        \"monthly or annual\", \"monthly or annual\"\n",
    "    ]\n",
    "}\n",
    "\n",
    "# Create the DataFrame\n",
    "df = pd.DataFrame(data)\n",
    "\n",
    "# Display the DataFrame\n",
    "print(df)\n",
    "\n",
    "#first, \n"
   ]
  },
  {
   "cell_type": "markdown",
   "metadata": {},
   "source": [
    "### Product Type and Variable Temporal Aggregation\n",
    "\n",
    "| product_type            | variable                           | temporal_aggregation |\n",
    "|-------------------------|------------------------------------|----------------------|\n",
    "| base_independent         | consecutive_dry_days               | annual               |\n",
    "| base_independent         | consecutive_wet_days               | annual               |\n",
    "| base_independent         | diurnal_temperature_range          | monthly or annual    |\n",
    "| base_independent         | frost_days                         | annual               |\n",
    "| base_independent         | growing_season_length              | annual               |\n",
    "| base_independent         | heavy_precipitation_days           | annual               |\n",
    "| base_independent         | ice_days                           | annual               |\n",
    "| base_independent         | maximum_1_day_precipitation        | monthly or annual    |\n",
    "| base_independent         | maximum_5_day_precipitation        | monthly or annual    |\n",
    "| base_independent         | maximum_value_of_daily_maximum_temperature | monthly or annual    |\n",
    "| base_independent         | minimum_value_of_daily_maximum_temperature | monthly or annual    |\n",
    "| base_independent         | maximum_value_of_daily_minimum_temperature | monthly or annual    |\n",
    "| base_independent         | minimum_value_of_daily_minimum_temperature | monthly or annual    |\n",
    "| base_independent         | number_of_wet_days                 | annual               |\n",
    "| base_independent         | simple_daily_intensity_index       | annual               |\n",
    "| base_independent         | summer_days                        | annual               |\n",
    "| base_independent         | total_wet_day_precipitation        | annual               |\n",
    "| base_independent         | tropical_nights                    | annual               |\n",
    "| base_independent         | very_heavy_precipitation_days      | annual               |\n",
    "| base_period_1961_1990    | cold_days                          | monthly or annual    |\n",
    "| base_period_1961_1990    | cold_nights                        | monthly or annual    |\n",
    "| base_period_1961_1990    | warm_days                          | monthly or annual    |\n",
    "| base_period_1961_1990    | warm_nights                        | monthly or annual    |\n",
    "\n",
    "The table above defines the `product_type`, `variable`, and the corresponding `temporal_aggregation` classification options for required parameters. Variables that are only available on a yearly basis are labeled as \"annual,\" while others that can be reported on both monthly and annual bases are labeled as \"monthly or annual.\"\n",
    "\n",
    "### Experiment Period Mapping\n",
    "\n",
    "| experiment  | period        |\n",
    "|-------------|---------------|\n",
    "| historical | 185001_201412 |\n",
    "| ssp1_2_6   | 201501_210012 |\n",
    "| ssp2_4_5   | 201501_210012 |\n",
    "| ssp5_8_5   | 201501_210012 |\n"
   ]
  },
  {
   "cell_type": "code",
   "execution_count": null,
   "metadata": {},
   "outputs": [],
   "source": [
    "# Read configuration from the .txt file\n",
    "import os\n",
    "base_dir= os.getcwd()\n",
    "config_file_path = f'{base_dir}/request.txt'  # Adjust this path to where your .txt file is located\n",
    "\n",
    "config = {}\n",
    "with open(config_file_path, 'r') as file:\n",
    "    for line in file:\n",
    "        key, value = line.strip().split(':')\n",
    "        config[key.strip()] = value.strip()\n",
    "\n",
    "# Assign variables from the config dictionary\n",
    "p_variable = config.get('p_variable')\n",
    "p_product_type = config.get('p_product_type')\n",
    "p_experiment = config.get('p_experiment')\n",
    "p_temporal_aggregation = config.get('p_temporal_aggregation')"
   ]
  },
  {
   "cell_type": "code",
   "execution_count": null,
   "metadata": {},
   "outputs": [],
   "source": [
    "print(p_variable)"
   ]
  },
  {
   "cell_type": "code",
   "execution_count": 15,
   "metadata": {},
   "outputs": [],
   "source": [
    "p_variable = \"consecutive_dry_days\"\n",
    "p_product_type=\"base_independent\"\n",
    "p_experiment=\"historical\"\n",
    "p_temporal_aggregation=\"yearly\"\n",
    "\n",
    "#-----------------------------------------------------------\n",
    "# Define Start Year & Month\n",
    "#-----------------------------------------------------------\n",
    "start_year = '1990'\n",
    "start_month = '01'\n",
    "#-----------------------------------------------------------\n",
    "# Define End Year & Month\n",
    "end_year = '1993'\n",
    "end_month = '02'\n",
    "#-----------------------------------------------------------\n",
    "method = 'raster_query' # or raster_query\n",
    "#-----------------------------------------------------------\n",
    "save_tif = 'yes' # or no\n",
    "#-----------------------------------------------------------\n",
    "\n",
    "#country_selection = None"
   ]
  },
  {
   "cell_type": "code",
   "execution_count": 16,
   "metadata": {},
   "outputs": [
    {
     "name": "stdout",
     "output_type": "stream",
     "text": [
      "Request is valid.\n",
      "yearly\n"
     ]
    },
    {
     "data": {
      "text/plain": [
       "{'variable': ['consecutive_dry_days'],\n",
       " 'product_type': ['base_independent'],\n",
       " 'model': ['hadgem3_gc31_ll'],\n",
       " 'ensemble_member': ['r1i1p1f3'],\n",
       " 'experiment': ['historical'],\n",
       " 'temporal_aggregation': ['yearly'],\n",
       " 'period': ['1850_2014'],\n",
       " 'version': ['2_0'],\n",
       " 'data_format': 'netcdf'}"
      ]
     },
     "metadata": {},
     "output_type": "display_data"
    }
   ],
   "source": [
    "# Now, calling the function will generate and validate the request\n",
    "\n",
    "request = generate_and_validate_request(\n",
    "    variable=p_variable,\n",
    "    product_type=p_product_type,\n",
    "    experiment=p_experiment,\n",
    "    temporal_aggregation=p_temporal_aggregation\n",
    ")\n",
    "temporal_aggregation_value = request['temporal_aggregation'][0]\n",
    "print(temporal_aggregation_value)\n",
    "display(request)\n",
    "\n",
    "#-------------------------------------------------------------------\n",
    "# Load a clean PG dataframe at a consistent temporal resolution\n",
    "# to the request built\n",
    "#-------------------------------------------------------------------\n",
    "\n",
    "#reference_df = provide_reference_frame(request)"
   ]
  },
  {
   "cell_type": "markdown",
   "metadata": {},
   "source": [
    "The zip_file_name will appear in folder:\n",
    "\n",
    "```\n",
    "CLIMATE_EXTREMES/\n",
    "├── data/\n",
    "│   ├── raw_external/\n",
    "│   │   └── cds_zip/\n",
    "```"
   ]
  },
  {
   "cell_type": "code",
   "execution_count": 17,
   "metadata": {},
   "outputs": [
    {
     "name": "stderr",
     "output_type": "stream",
     "text": [
      "2024-12-04 16:25:50,328 INFO [2024-09-28T00:00:00] **Welcome to the New Climate Data Store (CDS)!** This new system is in its early days of full operations and still undergoing enhancements and fine tuning. Some disruptions are to be expected. Your \n",
      "[feedback](https://jira.ecmwf.int/plugins/servlet/desk/portal/1/create/202) is key to improve the user experience on the new CDS for the benefit of everyone. Thank you.\n",
      "2024-12-04 16:25:50,328 INFO [2024-09-26T00:00:00] Watch our [Forum](https://forum.ecmwf.int/) for Announcements, news and other discussed topics.\n",
      "2024-12-04 16:25:50,328 INFO [2024-09-16T00:00:00] Remember that you need to have an ECMWF account to use the new CDS. **Your old CDS credentials will not work in new CDS!**\n",
      "2024-12-04 16:25:50,329 WARNING [2024-06-16T00:00:00] CDS API syntax is changed and some keys or parameter names may have also changed. To avoid requests failing, please use the \"Show API request code\" tool on the dataset Download Form to check you are using the correct syntax for your API request.\n",
      "2024-12-04 16:25:51,183 INFO Request ID is ea842791-dddb-405b-a754-632023cf4bdf\n",
      "2024-12-04 16:25:51,270 INFO status has been updated to accepted\n",
      "2024-12-04 16:25:56,438 INFO status has been updated to running\n",
      "2024-12-04 16:25:59,946 INFO status has been updated to successful\n"
     ]
    },
    {
     "data": {
      "application/vnd.jupyter.widget-view+json": {
       "model_id": "b2b10c67a545417f8ca68fa8243b3747",
       "version_major": 2,
       "version_minor": 0
      },
      "text/plain": [
       "9d63597c4074b0f4eefb5ed6ae388ebd.zip:   0%|          | 0.00/17.5M [00:00<?, ?B/s]"
      ]
     },
     "metadata": {},
     "output_type": "display_data"
    }
   ],
   "source": [
    "zip_file_name = pull_from_cds_api(request)"
   ]
  },
  {
   "cell_type": "markdown",
   "metadata": {},
   "source": [
    "The netcdf file will appear in folder: \n",
    "\n",
    "```\n",
    "CLIMATE_EXTREMES/\n",
    "├── data/\n",
    "│   ├── generated/\n",
    "│   │   └── netcd/\n",
    "\n",
    "```"
   ]
  },
  {
   "cell_type": "code",
   "execution_count": 18,
   "metadata": {},
   "outputs": [
    {
     "name": "stdout",
     "output_type": "stream",
     "text": [
      "cddETCCDI\n",
      "Extracted file names: cddETCCDI_yr_HadGEM3-GC31-LL_historical_r1i1p1f3_no-base_v20190624_1850-2014_v2-0.nc\n"
     ]
    }
   ],
   "source": [
    "netcdf_file, etccdi_index = unzip_etccdi_package(zip_file_name)"
   ]
  },
  {
   "cell_type": "markdown",
   "metadata": {},
   "source": [
    "The adjusted netcdf file replaced the original file in location:\n",
    "\n",
    "```\n",
    "CLIMATE_EXTREMES/\n",
    "├── data/\n",
    "│   ├── generated/\n",
    "│   │   └── netcd/\n",
    "```"
   ]
  },
  {
   "cell_type": "code",
   "execution_count": 19,
   "metadata": {},
   "outputs": [
    {
     "name": "stdout",
     "output_type": "stream",
     "text": [
      "The variable 'cddETCCDI' was found in the file path and the world continues to spin.\n",
      "Original Latitude range: -89.375 to 89.375\n",
      "Original Longitude range: 0.9375 to 359.0625\n",
      "Adjusted Longitude range: -179.0625 to 179.0625\n"
     ]
    },
    {
     "name": "stderr",
     "output_type": "stream",
     "text": [
      "/Users/gbenz/miniforge3/envs/viewser/lib/python3.11/site-packages/pandas/core/arrays/timedeltas.py:908: RuntimeWarning: invalid value encountered in cast\n",
      "  base = data.astype(np.int64)\n",
      "/Users/gbenz/miniforge3/envs/viewser/lib/python3.11/site-packages/pandas/core/arrays/timedeltas.py:912: RuntimeWarning: invalid value encountered in cast\n",
      "  data = (base * m + (frac * m).astype(np.int64)).view(\"timedelta64[ns]\")\n"
     ]
    },
    {
     "name": "stdout",
     "output_type": "stream",
     "text": [
      "Adjusted dataset saved to: /Users/gbenz/Documents/Climate_Data/climate_extremes/data/generated/netcdf/adjusted_cddETCCDI_yr_HadGEM3-GC31-LL_historical_r1i1p1f3_no-base_v20190624_1850-2014_v2-0.nc.nc\n"
     ]
    }
   ],
   "source": [
    "etccdi = transform_longitudinal_values(etccdi_index, netcdf_file)"
   ]
  },
  {
   "cell_type": "code",
   "execution_count": 20,
   "metadata": {},
   "outputs": [
    {
     "name": "stdout",
     "output_type": "stream",
     "text": [
      "Latitude range: -89.375 to 89.375\n",
      "Longitude range: -179.0625 to 179.0625\n",
      "Latitude resolution: 1.25\n",
      "Longitude resolution: 1.875\n",
      "Global Metadata:\n",
      "CDI: Climate Data Interface version 1.8.0 (http://mpimet.mpg.de/cdi)\n",
      "history: Tue Nov 24 08:58:40 2020: cdo mergetime tasmax_day_HadGEM3-GC31-LL_historical_r1i1p1f3_gn_18500101-19491230.nc tasmax_day_HadGEM3-GC31-LL_historical_r1i1p1f3_gn_19500101-20141230.nc ./merged/tasmax_day_HadGEM3-GC31-LL_historical_r1i1p1f3_gn_18500101-20141230.nc\n",
      "2019-06-19T11:16:23Z ; CMOR rewrote data to be consistent with CMIP6, CF-1.7 CMIP-6.2 and CF standards.;\n",
      "2019-06-19T11:07:16Z MIP Convert v1.1.0, Python v2.7.12, Iris v1.13.0, Numpy v1.13.3, netcdftime v1.4.1.\n",
      "source: HadGEM3-GC31-LL (2016): \n",
      "aerosol: UKCA-GLOMAP-mode\n",
      "atmos: MetUM-HadGEM3-GA7.1 (N96; 192 x 144 longitude/latitude; 85 levels; top level 85 km)\n",
      "atmosChem: none\n",
      "land: JULES-HadGEM3-GL7.1\n",
      "landIce: none\n",
      "ocean: NEMO-HadGEM3-GO6.0 (eORCA1 tripolar primarily 1 deg with meridional refinement down to 1/3 degree in the tropics; 360 x 330 longitude/latitude; 75 levels; top grid cell 0-1 m)\n",
      "ocnBgchem: none\n",
      "seaIce: CICE-HadGEM3-GSI8 (eORCA1 tripolar primarily 1 deg; 360 x 330 longitude/latitude)\n",
      "institution: Met Office Hadley Centre, Fitzroy Road, Exeter, Devon, EX1 3PB, UK\n",
      "Conventions: CF-1.7 CMIP-6.2\n",
      "activity_id: CMIP\n",
      "branch_method: standard\n",
      "branch_time_in_child: 0.0\n",
      "branch_time_in_parent: 0.0\n",
      "input_creation_date: 2019-06-19T14:20:08Z\n",
      "cv_version: 6.2.20.1\n",
      "data_specs_version: 01.00.29\n",
      "experiment: all-forcing simulation of the recent past\n",
      "experiment_id: historical\n",
      "external_variables: areacella\n",
      "forcing_index: 3\n",
      "input_frequency: day\n",
      "further_info_url: https://furtherinfo.es-doc.org/CMIP6.MOHC.HadGEM3-GC31-LL.historical.none.r1i1p1f3\n",
      "grid: Native N96 grid; 192 x 144 longitude/latitude\n",
      "grid_label: gn\n",
      "initialization_index: 1\n",
      "institution_id: MOHC\n",
      "mip_era: CMIP6\n",
      "mo_runid: u-bg466\n",
      "nominal_resolution: 250 km\n",
      "parent_activity_id: CMIP\n",
      "parent_experiment_id: piControl\n",
      "parent_mip_era: CMIP6\n",
      "parent_source_id: HadGEM3-GC31-LL\n",
      "parent_time_units: days since 1850-01-01-00-00-00\n",
      "parent_variant_label: r1i1p1f1\n",
      "physics_index: 1\n",
      "product: model-output\n",
      "realization_index: 1\n",
      "realm: atmos\n",
      "source_id: HadGEM3-GC31-LL\n",
      "source_type: AOGCM AER\n",
      "sub_experiment: none\n",
      "sub_experiment_id: none\n",
      "table_id: day\n",
      "table_info: Creation Date:(13 December 2018) MD5:2b12b5db6db112aa8b8b0d6c1645b121\n",
      "input_title: HadGEM3-GC31-LL output prepared for CMIP6\n",
      "variable_id: tasmax\n",
      "variant_label: r1i1p1f3\n",
      "license: CMIP6 model data produced by the Met Office Hadley Centre is licensed under a Creative Commons Attribution-ShareAlike 4.0 International License (https://creativecommons.org/licenses). Consult https://pcmdi.llnl.gov/CMIP6/TermsOfUse for terms of use governing CMIP6 output, including citation requirements and proper acknowledgment. Further information about this data, including some limitations, can be found via the further_info_url (recorded as a global attribute in this file) and at https://ukesm.ac.uk/cmip6. The data producers and data providers make no warranty, either express or implied, including, but not limited to, warranties of merchantability and fitness for a particular purpose. All liabilities arising from the supply of the information (including any liability arising in negligence) are excluded to the fullest extent permitted by law.\n",
      "cmor_version: 3.4.0\n",
      "input_tracking_id: hdl:21.14100/ce656162-9898-47ca-be4f-ef0dec151bfc\n",
      "CDO: Climate Data Operators version 1.8.0 (http://mpimet.mpg.de/cdo)\n",
      "ETCCDI_institution: Center for International Climate and Environmental Research - Oslo, Norway\n",
      "ETCCDI_institution_id: CICERO\n",
      "ETCCDI_software: climdex.pcic\n",
      "ETCCDI_software_version: 1.1.9.1\n",
      "frequency: yr\n",
      "creation_date: 2020-11-24T20:15:31Z\n",
      "title: ETCCDI indices computed on HadGEM3-GC31-LL output prepared for CMIP6\n",
      "Unique Years: [1850, 1851, 1852, 1853, 1854, 1855, 1856, 1857, 1858, 1859, 1860, 1861, 1862, 1863, 1864, 1865, 1866, 1867, 1868, 1869, 1870, 1871, 1872, 1873, 1874, 1875, 1876, 1877, 1878, 1879, 1880, 1881, 1882, 1883, 1884, 1885, 1886, 1887, 1888, 1889, 1890, 1891, 1892, 1893, 1894, 1895, 1896, 1897, 1898, 1899, 1900, 1901, 1902, 1903, 1904, 1905, 1906, 1907, 1908, 1909, 1910, 1911, 1912, 1913, 1914, 1915, 1916, 1917, 1918, 1919, 1920, 1921, 1922, 1923, 1924, 1925, 1926, 1927, 1928, 1929, 1930, 1931, 1932, 1933, 1934, 1935, 1936, 1937, 1938, 1939, 1940, 1941, 1942, 1943, 1944, 1945, 1946, 1947, 1948, 1949, 1950, 1951, 1952, 1953, 1954, 1955, 1956, 1957, 1958, 1959, 1960, 1961, 1962, 1963, 1964, 1965, 1966, 1967, 1968, 1969, 1970, 1971, 1972, 1973, 1974, 1975, 1976, 1977, 1978, 1979, 1980, 1981, 1982, 1983, 1984, 1985, 1986, 1987, 1988, 1989, 1990, 1991, 1992, 1993, 1994, 1995, 1996, 1997, 1998, 1999, 2000, 2001, 2002, 2003, 2004, 2005, 2006, 2007, 2008, 2009, 2010, 2011, 2012, 2013, 2014]\n",
      "Unique Months: [6]\n"
     ]
    }
   ],
   "source": [
    "give_metadata(etccdi)"
   ]
  },
  {
   "cell_type": "code",
   "execution_count": 11,
   "metadata": {},
   "outputs": [
    {
     "name": "stdout",
     "output_type": "stream",
     "text": [
      "\n",
      "Generating empty PG scaffolders which will be used to validate the spatial and temporal completeness of the selected indice.\n",
      "This is expected to take several minutes...\n",
      "\n"
     ]
    }
   ],
   "source": [
    "reference_df = provide_reference_frame('yearly')"
   ]
  },
  {
   "cell_type": "code",
   "execution_count": 21,
   "metadata": {},
   "outputs": [
    {
     "name": "stdout",
     "output_type": "stream",
     "text": [
      "No data found for 01 of the year 1990 but located data for the first available month.\n",
      "Validation: Found data for Year: 1990, Month: 06 at index 140.\n",
      "\n",
      "No data found for 02 of the year 1993 but located data for the first available month.\n",
      "Validation: Found data for Year: 1993, Month: 06 at index 143.\n",
      "\n",
      "The start index is: 140, and references 06 (month) of 1990 (year)\n",
      "\n",
      "The end index is: 143, and references 06 (month) of 1993 (year)\n",
      "\n"
     ]
    }
   ],
   "source": [
    "index_list, reference_filtered_time, report_temporal_dimensions = translate_index_to_daterange(etccdi, reference_df, temporal_aggregation_value, start_year, start_month, end_year, end_month)"
   ]
  },
  {
   "cell_type": "markdown",
   "metadata": {},
   "source": [
    "### Params:\n",
    "\n",
    "- time_index_list,\n",
    "- netcdf, climate_index, \n",
    "- shapefile_path\n"
   ]
  },
  {
   "cell_type": "markdown",
   "metadata": {},
   "source": [
    "\n",
    "Raster files:\n",
    "```\n",
    "CLIMATE_EXTREMES/\n",
    "├── data/\n",
    "│   ├── generated/\n",
    "│   │   └── index_raster_output/\n",
    "```\n",
    "\n",
    "Final output table:\n",
    "```\n",
    "CLIMATE_EXTREMES/\n",
    "├── data/\n",
    "│   ├── generated/\n",
    "│   │   └── index_table_output/\n",
    "```\n"
   ]
  },
  {
   "cell_type": "markdown",
   "metadata": {},
   "source": [
    "### Changes:\n",
    "\n",
    "#### Do not print each iteration of the graphics!\n",
    "- Complete for raster_query\n",
    "- Finish for resample!"
   ]
  },
  {
   "cell_type": "code",
   "execution_count": 22,
   "metadata": {},
   "outputs": [
    {
     "name": "stdout",
     "output_type": "stream",
     "text": [
      "Processing time index: 140\n",
      "Year: 1990 Month: 06\n",
      "CRS is not set. Setting CRS to EPSG:4326\n"
     ]
    },
    {
     "name": "stderr",
     "output_type": "stream",
     "text": [
      "/Users/gbenz/miniforge3/envs/viewser/lib/python3.11/site-packages/pandas/core/arrays/timedeltas.py:908: RuntimeWarning: invalid value encountered in cast\n",
      "  base = data.astype(np.int64)\n",
      "/Users/gbenz/miniforge3/envs/viewser/lib/python3.11/site-packages/pandas/core/arrays/timedeltas.py:912: RuntimeWarning: invalid value encountered in cast\n",
      "  data = (base * m + (frac * m).astype(np.int64)).view(\"timedelta64[ns]\")\n",
      "/Users/gbenz/Documents/Climate_Data/climate_extremes/utils/etccdi_to_pg__pointquery.py:118: UserWarning: Geometry is in a geographic CRS. Results from 'centroid' are likely incorrect. Use 'GeoSeries.to_crs()' to re-project geometries to a projected CRS before this operation.\n",
      "\n",
      "  gdf['centroid'] = gdf.geometry.centroid\n"
     ]
    },
    {
     "name": "stdout",
     "output_type": "stream",
     "text": [
      "Processing time index: 141\n",
      "Year: 1991 Month: 06\n",
      "CRS is not set. Setting CRS to EPSG:4326\n"
     ]
    },
    {
     "name": "stderr",
     "output_type": "stream",
     "text": [
      "/Users/gbenz/Documents/Climate_Data/climate_extremes/utils/etccdi_to_pg__pointquery.py:118: UserWarning: Geometry is in a geographic CRS. Results from 'centroid' are likely incorrect. Use 'GeoSeries.to_crs()' to re-project geometries to a projected CRS before this operation.\n",
      "\n",
      "  gdf['centroid'] = gdf.geometry.centroid\n"
     ]
    },
    {
     "name": "stdout",
     "output_type": "stream",
     "text": [
      "Processing time index: 142\n",
      "Year: 1992 Month: 06\n",
      "CRS is not set. Setting CRS to EPSG:4326\n"
     ]
    },
    {
     "name": "stderr",
     "output_type": "stream",
     "text": [
      "/Users/gbenz/Documents/Climate_Data/climate_extremes/utils/etccdi_to_pg__pointquery.py:118: UserWarning: Geometry is in a geographic CRS. Results from 'centroid' are likely incorrect. Use 'GeoSeries.to_crs()' to re-project geometries to a projected CRS before this operation.\n",
      "\n",
      "  gdf['centroid'] = gdf.geometry.centroid\n"
     ]
    },
    {
     "name": "stdout",
     "output_type": "stream",
     "text": [
      "Processing time index: 143\n",
      "Year: 1993 Month: 06\n",
      "CRS is not set. Setting CRS to EPSG:4326\n"
     ]
    },
    {
     "name": "stderr",
     "output_type": "stream",
     "text": [
      "/Users/gbenz/Documents/Climate_Data/climate_extremes/utils/etccdi_to_pg__pointquery.py:118: UserWarning: Geometry is in a geographic CRS. Results from 'centroid' are likely incorrect. Use 'GeoSeries.to_crs()' to re-project geometries to a projected CRS before this operation.\n",
      "\n",
      "  gdf['centroid'] = gdf.geometry.centroid\n"
     ]
    },
    {
     "name": "stdout",
     "output_type": "stream",
     "text": [
      "Final DataFrame saved to: /Users/gbenz/Documents/Climate_Data/climate_extremes/data/generated/index_table_output/cddETCCDI_yearly_199006_199306__centroid_process.csv\n",
      "cddETCCDI_yearly_199006_199306__centroid_process.csv\n",
      "All graphics saved to /Users/gbenz/Documents/Climate_Data/climate_extremes/docs/Graphics/Standard_review/cddETCCDI_layout.pdf\n"
     ]
    }
   ],
   "source": [
    "if method == 'raster_query':\n",
    "    translated_filename = generate_etccdi_temporal_tables__centroid(index_list, etccdi, etccdi_index, report_temporal_dimensions, save_tif)\n",
    "\n",
    "elif method == 'resample':\n",
    "    translated_filename = generate_etccdi_temporal_tables(index_list, etccdi, etccdi_index, report_temporal_dimensions, save_tif)\n",
    "\n",
    "else: \n",
    "    print('you have entered a bad prompt for the method parameter. Please restart.... ')"
   ]
  },
  {
   "cell_type": "markdown",
   "metadata": {},
   "source": [
    "``translated_filename`` retrieves the summary table saved to:\n",
    "\n",
    "\n",
    "``reference_filtered_time`` retrieves the primary reference table saved to:"
   ]
  },
  {
   "cell_type": "markdown",
   "metadata": {},
   "source": [
    "## There was an error in report_null_etccdi_values:\n",
    "proceeding code line concentrates on this"
   ]
  },
  {
   "cell_type": "code",
   "execution_count": null,
   "metadata": {},
   "outputs": [],
   "source": [
    "index = str(translated_filename).split('_')[0]\n",
    "print(index)"
   ]
  },
  {
   "cell_type": "code",
   "execution_count": 23,
   "metadata": {},
   "outputs": [
    {
     "name": "stdout",
     "output_type": "stream",
     "text": [
      "Total number of null values in 'validate_etccdi' DataFrame: 1654\n",
      "   year  month  NaN_count\n",
      "0  1990      6        247\n",
      "1  1991      6        539\n",
      "2  1992      6        265\n",
      "3  1993      6        603\n"
     ]
    }
   ],
   "source": [
    "report_null_etccdi_values(translated_filename, reference_filtered_time, temporal_aggregation_value)"
   ]
  },
  {
   "cell_type": "markdown",
   "metadata": {},
   "source": [
    "## Now you can migrate to the ingestion script\n",
    "\n",
    "We want to intentionally keep these things seperate (lock / key) so unwanted things are not automatically ingested\n",
    "\n",
    "- **Clarify migration to the ingestion script**:"
   ]
  },
  {
   "cell_type": "code",
   "execution_count": null,
   "metadata": {},
   "outputs": [],
   "source": [
    "print( \"Now you are ready to run the ingestion code located in .... \")"
   ]
  },
  {
   "cell_type": "code",
   "execution_count": 24,
   "metadata": {},
   "outputs": [],
   "source": [
    "\n",
    "from pathlib import Path\n",
    "\n",
    "def report_summary_stats(translated_filename):\n",
    "\n",
    "    translated_filename\n",
    "\n",
    "    project_root = Path.cwd()  # Set this to your project root manually if needed\n",
    "    out_path = project_root / 'data' / 'generated' / 'index_table_output'\n",
    "    extent_filename = out_path / translated_filename\n",
    "\n",
    "    df = pd.read_csv(extent_filename)\n",
    "\n",
    "    clim_value = translated_filename.split('_')[0]\n",
    "\n",
    "    df['date'] = pd.to_datetime(df[['year', 'month']].assign(day=1))  # Create a date column (set to first day of month)\n",
    "    df_annual = df.groupby('year')[clim_value].agg(\n",
    "    mean='mean', \n",
    "    percentile_25=lambda x: x.quantile(0.25),  # 25th percentile\n",
    "    percentile_90=lambda x: x.quantile(0.90)   # 90th percentile\n",
    "    ).reset_index()\n",
    "\n",
    "    # extreme highs -----------------------------------------------------------------------------\n",
    "    # ----- MEAN -----\n",
    "    top_3_annual_mean = df_annual.nlargest(5, 'mean')\n",
    "    #top_3_annual_mean_years = top_3_annual_mean['year'].tolist()\n",
    "\n",
    "    #give list of the desired attribute:\n",
    "    # mean\n",
    "    top_3_annual_mean_values = top_3_annual_mean['mean'].values  # Get the first 3 mean values or less\n",
    "    # year\n",
    "    top_3_annual_mean_years_list = top_3_annual_mean['year'].values\n",
    "\n",
    "    # ----- 90th percentile -----\n",
    "\n",
    "    top_3_max = df_annual.nlargest(5, 'percentile_90')\n",
    "    #top_3_max_years = top_3_max['year'].tolist()\n",
    "\n",
    "    #give list of the desired attribute:\n",
    "    # 90th percentile\n",
    "    top_3_max_values = top_3_max['mean'].values  # Get the first 3 mean values or less\n",
    "    # year\n",
    "    top_3_max_years_list = top_3_max['year'].values\n",
    "\n",
    "    # ----- 25th percentile -----\n",
    "\n",
    "    top_3_min = df_annual.nlargest(5, 'percentile_25')\n",
    "    #top_3_min_years = top_3_min['year'].tolist()\n",
    "\n",
    "    #give list of the desired attribute:\n",
    "    # 25th percentile\n",
    "    top_3_min_values = top_3_min['mean'].values  # Get the first 3 mean values or less\n",
    "    # year\n",
    "    top_3_min_years_list = top_3_min['year'].values\n",
    "\n",
    "    # --------------------------\n",
    "    # define how many index values should appear: -- This applies to both df1 and df2 (same length and the variable referenced does not matter, also same length)\n",
    "    index_count = len(top_3_min_years_list)\n",
    "    index_val = list(range(1, index_count + 1))  # Generate the index dynamically\n",
    "    # --------------------------\n",
    "\n",
    "    # --------------------------\n",
    "    # Generate Extreme High Summary DF (1)\n",
    "    # --------------------------\n",
    "\n",
    "    df1 = pd.DataFrame({\n",
    "        'year (25th)': top_3_min_years_list.tolist(),\n",
    "        '25th': top_3_min_values.tolist(),\n",
    "        'year (90th)': top_3_max_years_list.tolist(),\n",
    "        '90th': top_3_max_values.tolist(),\n",
    "        'year (mean)': top_3_annual_mean_years_list.tolist(),\n",
    "        'mean': top_3_annual_mean_values.tolist()\n",
    "    }, index=index_val)\n",
    "\n",
    "    # -------------------------------------------------------------------------------------------\n",
    "    # extreme lows -----------------------------------------------------------------------------\n",
    "\n",
    "    # ----- MEAN -----\n",
    "\n",
    "    bottom_3_annual_mean = df_annual.nsmallest(5, 'mean')\n",
    "    #bottom_3_annual_mean_years = bottom_3_annual_mean['year'].tolist()\n",
    "\n",
    "    #give list of the desired attribute:\n",
    "    # mean\n",
    "    bottom_3_annual_mean_values = bottom_3_annual_mean['mean'].values  # Get the first 3 mean values or less\n",
    "    # year\n",
    "    bottom_3_annual_mean_years_list = bottom_3_annual_mean['year'].values\n",
    "\n",
    "    # ----- 90th percentile -----\n",
    "\n",
    "    bottom_3_max = df_annual.nsmallest(5, 'percentile_90')\n",
    "    bottom_3_max_years = bottom_3_max['year'].tolist()\n",
    "\n",
    "    #give list of the desired attribute:\n",
    "    # 90th percentile\n",
    "    bottom_3_max_values = bottom_3_max['mean'].values  # Get the first 3 mean values or less\n",
    "    # year\n",
    "    bottom_3_max_years_list = bottom_3_max['year'].values\n",
    "\n",
    "    # ----- 25th percentile -----\n",
    "\n",
    "    bottom_3_min = df_annual.nsmallest(5, 'percentile_25')\n",
    "    bottom_3_min_years = bottom_3_min['year'].tolist()\n",
    "\n",
    "    #give list of the desired attribute:\n",
    "    # 25th percentile\n",
    "    bottom_3_min_values = bottom_3_min['mean'].values  # Get the first 3 mean values or less\n",
    "    # year\n",
    "    bottom_3_min_years_list = bottom_3_min['year'].values\n",
    "\n",
    "    # --------------------------\n",
    "    # Generate Extreme High Summary DF (1)\n",
    "    # --------------------------\n",
    "\n",
    "    df2 = pd.DataFrame({\n",
    "        'year (25th)': bottom_3_min_years_list.tolist(),\n",
    "        '25th': bottom_3_min_values.tolist(),\n",
    "        'year (90th)': bottom_3_max_years_list.tolist(),\n",
    "        '90th': bottom_3_max_values.tolist(),\n",
    "        'year (mean)': bottom_3_annual_mean_years_list.tolist(),\n",
    "        'mean': bottom_3_annual_mean_values.tolist()\n",
    "    }, index=index_val)\n",
    "\n",
    "    return(df_annual, df1, df2)"
   ]
  },
  {
   "cell_type": "code",
   "execution_count": 25,
   "metadata": {},
   "outputs": [],
   "source": [
    "df_an, df1, df2= report_summary_stats(translated_filename)"
   ]
  },
  {
   "cell_type": "code",
   "execution_count": 26,
   "metadata": {},
   "outputs": [],
   "source": [
    "import matplotlib.pyplot as plt\n",
    "from matplotlib.gridspec import GridSpec\n",
    "import os\n",
    "\n",
    "def plot_statistics(variable, df_annual, df1, df2):\n",
    "\n",
    "    project_root = Path.cwd()  # Set this to your project root manually if needed\n",
    "    output_folder = project_root / 'docs' / 'Graphics' / 'Standard_review'\n",
    "\n",
    "    file_name = os.path.join(output_folder, f'{variable}_Summary_plots.pdf')\n",
    "\n",
    "    print_title = f'Annual Data Report of Climate Extreme Variable: {variable} '\n",
    "\n",
    "    # Sample data for the tables (5 rows, 3 columns)\n",
    "    # Convert the first column to integers (no decimals)\n",
    "    df1[df1.columns[0]] = df1[df1.columns[0]].astype(int)\n",
    "\n",
    "    # Round all other columns to 2 decimal places\n",
    "    df1.iloc[:, 1:] = df1.iloc[:, 1:].round(2)\n",
    "\n",
    "    # Convert the first column to integers (no decimals)\n",
    "    df2[df2.columns[0]] = df2[df2.columns[0]].astype(int)\n",
    "\n",
    "    # Round all other columns to 2 decimal places\n",
    "    df2.iloc[:, 1:] = df2.iloc[:, 1:].round(2)\n",
    "\n",
    "\n",
    "    # Create a figure\n",
    "    fig = plt.figure(figsize=(15, 10))  # Adjust the figure size to fit 5 columns and 3 rows\n",
    "\n",
    "    # Create a GridSpec with 3 rows and 5 columns (equal sizes for all subplots)\n",
    "    gs = GridSpec(3, 5)  # 3 rows, 5 columns\n",
    "\n",
    "    # Create subplots in the grid\n",
    "    ax2 = fig.add_subplot(gs[0, 1:4])  # Top-center-left subplot\n",
    "\n",
    "    ax6 = fig.add_subplot(gs[1, 0:2])  # Middle-left subplot\n",
    "    ax8 = fig.add_subplot(gs[1:, 2:])  # Middle-center-right subplot\n",
    "\n",
    "    ax11 = fig.add_subplot(gs[2, 0:2]) # Bottom-left subplot\n",
    "\n",
    "\n",
    "    # Set titles for each subplot\n",
    "    ax2.axis('off')\n",
    "    ax2.text(0.5, 0.5, print_title, ha='center', va='center', fontsize=26, color='black', weight='bold')\n",
    "\n",
    "    ax6.set_title(\"Report of maximum values\",fontsize=16)  # Adjust the pad to control the distance between title and table\n",
    "    table6 = ax6.table(cellText=df1.values, colLabels=df1.columns, loc='center', cellLoc='center', colLoc='center')\n",
    "    ax6.axis('tight')\n",
    "    ax6.axis('off')\n",
    "    # Get the actual size of ax6 in inches (not normalized)\n",
    "    bbox = ax6.get_window_extent().transformed(fig.dpi_scale_trans.inverted())  # Get axis bounding box in inches\n",
    "    ax_width, ax_height = bbox.width, bbox.height  # Get the width and height of the axes in inches\n",
    "\n",
    "    # Number of rows and columns\n",
    "    num_columns = len(df1.columns)\n",
    "    num_rows = len(df1)\n",
    "\n",
    "    # Calculate the column width and row height to fit the axes' size\n",
    "    column_width = ax_width / num_columns  # Divide the axis width by the number of columns\n",
    "    column_width = 1.6  # Divide the axis width by the number of columns\n",
    "\n",
    "    row_height = 1.6  # Divide the axis height by the number of rows, adding some space for margins\n",
    "\n",
    "    # Apply the scaling to the table\n",
    "    table6.scale(column_width, row_height)  # Scale both width and height proportionally\n",
    "\n",
    "\n",
    "    # Adjust layout to make sure everything fits well\n",
    "    plt.tight_layout()\n",
    "\n",
    "    ax8.plot(df_annual['year'], df_annual['mean'], marker='o', color='b', label='Annual Mean')\n",
    "    ax8.set_title(f'Annual average of {variable} over time')\n",
    "    ax8.set_xlabel('Year')\n",
    "    ax8.set_ylabel(f'{variable} Mean')\n",
    "    ax8.legend()\n",
    "    ax8.grid(True)\n",
    "\n",
    "\n",
    "    ax11.set_title(\"Report of minimum values\",fontsize=16)\n",
    "    # Add table in ax6\n",
    "    table11 = ax11.table(cellText=df2.values, colLabels=df1.columns, loc='center', cellLoc='center', colLoc='center')\n",
    "    ax11.axis('tight')\n",
    "    ax11.axis('off')\n",
    "    # Get the actual size of ax6 in inches (not normalized)\n",
    "    bbox = ax11.get_window_extent().transformed(fig.dpi_scale_trans.inverted())  # Get axis bounding box in inches\n",
    "    ax_width, ax_height = bbox.width, bbox.height  # Get the width and height of the axes in inches\n",
    "\n",
    "    # Number of rows and columns\n",
    "    num_columns = len(df2.columns)\n",
    "    num_rows = len(df2)\n",
    "\n",
    "    # Calculate the column width and row height to fit the axes' size\n",
    "    column_width = 1.6  # Divide the axis width by the number of columns\n",
    "    row_height = 2.0  # Divide the axis height by the number of rows, adding some space for margins\n",
    "\n",
    "    # Apply the scaling to the table\n",
    "    table11.scale(column_width, row_height)  # Scale both width and height proportionally\n",
    "\n",
    "\n",
    "    # Adjust layout to prevent overlap\n",
    "    plt.tight_layout()\n",
    "\n",
    "    plt.savefig(file_name, format=\"pdf\")\n",
    "\n",
    "    # Show the plots\n",
    "    #plt.show()\n"
   ]
  },
  {
   "cell_type": "code",
   "execution_count": 27,
   "metadata": {},
   "outputs": [
    {
     "data": {
      "image/png": "[encoded data removed]",
      "text/plain": [
       "<Figure size 1500x1000 with 4 Axes>"
      ]
     },
     "metadata": {},
     "output_type": "display_data"
    }
   ],
   "source": [
    "plot_statistics(etccdi_index, df_an, df1, df2)"
   ]
  },
  {
   "cell_type": "code",
   "execution_count": null,
   "metadata": {},
   "outputs": [],
   "source": [
    "new_africa.pgy.full_set(self, in_africa = False, in_me = False)\n"
   ]
  }
 ],
 "metadata": {
  "kernelspec": {
   "display_name": "viewser",
   "language": "python",
   "name": "python3"
  },
  "language_info": {
   "codemirror_mode": {
    "name": "ipython",
    "version": 3
   },
   "file_extension": ".py",
   "mimetype": "text/x-python",
   "name": "python",
   "nbconvert_exporter": "python",
   "pygments_lexer": "ipython3",
   "version": "3.11.9"
  }
 },
 "nbformat": 4,
 "nbformat_minor": 2
}
